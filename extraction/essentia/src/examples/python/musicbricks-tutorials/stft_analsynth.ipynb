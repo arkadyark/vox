{
 "metadata": {
  "name": "",
  "signature": "sha256:797a9e2eacbae10d9e837bad3d2889c0583a00e680fb28a3814c48ad87de5a31"
 },
 "nbformat": 3,
 "nbformat_minor": 0,
 "worksheets": [
  {
   "cells": [
    {
     "cell_type": "heading",
     "level": 1,
     "metadata": {},
     "source": [
      "STFT Analysis/Synthesis - MusicBricks Tutorial"
     ]
    },
    {
     "cell_type": "heading",
     "level": 2,
     "metadata": {},
     "source": [
      "Introduction"
     ]
    },
    {
     "cell_type": "markdown",
     "metadata": {},
     "source": [
      "This tutorial will guide you through some tools for performing spectral analysis and synthesis using the Essentia library (http://www.essentia.upf.edu). STFT stands for Short-Time Fourier Transform and it processes an input audio signal as a sequence of spectral frames. Spectral frames are complex-valued arrays contain the frequency representation of the windowed input signal.\n",
      "\n",
      "This algorithm shows hwo to analyze the input signal, and resynthesize it again, allowing to apply new transformations directly on the spectral domain."
     ]
    },
    {
     "cell_type": "markdown",
     "metadata": {},
     "source": [
      "You should first install the Essentia library with Python bindings. Installation instructions are detailed here: http://essentia.upf.edu/documentation/installing.html . \n"
     ]
    },
    {
     "cell_type": "heading",
     "level": 2,
     "metadata": {},
     "source": [
      "Processing steps"
     ]
    },
    {
     "cell_type": "code",
     "collapsed": false,
     "input": [
      "# import essentia in standard mode\n",
      "import essentia\n",
      "import essentia.standard\n",
      "from essentia.standard import *"
     ],
     "language": "python",
     "metadata": {},
     "outputs": [],
     "prompt_number": 10
    },
    {
     "cell_type": "markdown",
     "metadata": {},
     "source": [
      "After importing Essentia library, let's import other numerical and plotting tools"
     ]
    },
    {
     "cell_type": "code",
     "collapsed": false,
     "input": [
      "# import matplotlib for plotting\n",
      "import matplotlib.pyplot as plt\n",
      "import numpy as np"
     ],
     "language": "python",
     "metadata": {},
     "outputs": [],
     "prompt_number": 11
    },
    {
     "cell_type": "markdown",
     "metadata": {},
     "source": [
      "Define the parameters of the STFT workflow"
     ]
    },
    {
     "cell_type": "code",
     "collapsed": false,
     "input": [
      "# algorithm parameters\n",
      "framesize = 2048\n",
      "hopsize = 256"
     ],
     "language": "python",
     "metadata": {},
     "outputs": [],
     "prompt_number": 16
    },
    {
     "cell_type": "markdown",
     "metadata": {},
     "source": [
      "Specify input and output audio filenames"
     ]
    },
    {
     "cell_type": "code",
     "collapsed": false,
     "input": [
      "inputFilename = 'predom.wav'\n",
      "outputFilename = 'predom_stft.wav'"
     ],
     "language": "python",
     "metadata": {},
     "outputs": [],
     "prompt_number": 17
    },
    {
     "cell_type": "code",
     "collapsed": false,
     "input": [
      "# create an audio loader and import audio file\n",
      "loader = essentia.standard.MonoLoader(filename = inputFilename, sampleRate = 44100)\n",
      "audio = loader()\n",
      "print(\"Duration of the audio sample [sec]:\")\n",
      "print(len(audio)/44100.0)"
     ],
     "language": "python",
     "metadata": {},
     "outputs": [
      {
       "output_type": "stream",
       "stream": "stdout",
       "text": [
        "Duration of the audio sample [sec]:\n",
        "14.2285941043\n"
       ]
      }
     ],
     "prompt_number": 18
    },
    {
     "cell_type": "markdown",
     "metadata": {},
     "source": [
      "Define algorithm chain for frame-by-frame process: \n",
      "FrameCutter -> Windowing -> FFT -> IFFT OverlapAdd -> AudioWriter"
     ]
    },
    {
     "cell_type": "code",
     "collapsed": false,
     "input": [
      "# algorithm instantation\n",
      "fcut = FrameCutter(frameSize = framesize, hopSize = hopsize);\n",
      "w = Windowing(type = \"hann\");\n",
      "fft = FFT(size = framesize);\n",
      "ifft = IFFT(size = framesize);\n",
      "overl = OverlapAdd (frameSize = framesize, hopSize = hopsize);\n",
      "awrite = MonoWriter (filename = outputFilename, sampleRate = 44100);"
     ],
     "language": "python",
     "metadata": {},
     "outputs": [],
     "prompt_number": 19
    },
    {
     "cell_type": "markdown",
     "metadata": {},
     "source": [
      "Now we loop over all audio frames and store the processed audio sampels in the output array"
     ]
    },
    {
     "cell_type": "code",
     "collapsed": false,
     "input": [
      "audioout = np.array(0) # initialize output array\n",
      "\n",
      "for frame in FrameGenerator(audio, frameSize = framesize, hopSize = hopsize):\n",
      "    # STFT analysis\n",
      "    infft = fft(w(frame))\n",
      "\n",
      "    # here we could apply spectral transformations\n",
      "    outfft = infft\n",
      "\n",
      "    # STFT synthesis\n",
      "    out = overl(ifft(outfft))\n",
      "    audioout = np.append(audioout, out)"
     ],
     "language": "python",
     "metadata": {},
     "outputs": [],
     "prompt_number": 20
    },
    {
     "cell_type": "markdown",
     "metadata": {},
     "source": [
      "Finally we write the processed audio array as a WAV file"
     ]
    },
    {
     "cell_type": "code",
     "collapsed": false,
     "input": [
      "# write audio output\n",
      "awrite(audio)"
     ],
     "language": "python",
     "metadata": {},
     "outputs": [],
     "prompt_number": 21
    }
   ],
   "metadata": {}
  }
 ]
}